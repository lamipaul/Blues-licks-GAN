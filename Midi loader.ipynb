{
 "cells": [
  {
   "cell_type": "code",
   "execution_count": 2,
   "metadata": {},
   "outputs": [
    {
     "ename": "FileNotFoundError",
     "evalue": "[Errno 2] No such file or directory: 'midis/Blues_Licks_-_Claus_Winther_Style_Solo.mid'",
     "output_type": "error",
     "traceback": [
      "\u001b[0;31m---------------------------------------------------------------------------\u001b[0m",
      "\u001b[0;31mFileNotFoundError\u001b[0m                         Traceback (most recent call last)",
      "\u001b[0;32m<ipython-input-2-8f29617822da>\u001b[0m in \u001b[0;36m<module>\u001b[0;34m()\u001b[0m\n\u001b[1;32m      3\u001b[0m \u001b[0;32mfrom\u001b[0m \u001b[0mmido\u001b[0m \u001b[0;32mimport\u001b[0m \u001b[0mMidiFile\u001b[0m\u001b[0;34m\u001b[0m\u001b[0m\n\u001b[1;32m      4\u001b[0m \u001b[0;34m\u001b[0m\u001b[0m\n\u001b[0;32m----> 5\u001b[0;31m \u001b[0mmid\u001b[0m \u001b[0;34m=\u001b[0m \u001b[0mMidiFile\u001b[0m\u001b[0;34m(\u001b[0m\u001b[0;34m'midis/Blues_Licks_-_Claus_Winther_Style_Solo.mid'\u001b[0m\u001b[0;34m)\u001b[0m\u001b[0;34m\u001b[0m\u001b[0m\n\u001b[0m",
      "\u001b[0;32m~/anaconda3/lib/python3.6/site-packages/mido/midifiles/midifiles.py\u001b[0m in \u001b[0;36m__init__\u001b[0;34m(self, filename, file, type, ticks_per_beat, charset, debug)\u001b[0m\n\u001b[1;32m    299\u001b[0m             \u001b[0mself\u001b[0m\u001b[0;34m.\u001b[0m\u001b[0m_load\u001b[0m\u001b[0;34m(\u001b[0m\u001b[0mfile\u001b[0m\u001b[0;34m)\u001b[0m\u001b[0;34m\u001b[0m\u001b[0m\n\u001b[1;32m    300\u001b[0m         \u001b[0;32melif\u001b[0m \u001b[0mself\u001b[0m\u001b[0;34m.\u001b[0m\u001b[0mfilename\u001b[0m \u001b[0;32mis\u001b[0m \u001b[0;32mnot\u001b[0m \u001b[0;32mNone\u001b[0m\u001b[0;34m:\u001b[0m\u001b[0;34m\u001b[0m\u001b[0m\n\u001b[0;32m--> 301\u001b[0;31m             \u001b[0;32mwith\u001b[0m \u001b[0mio\u001b[0m\u001b[0;34m.\u001b[0m\u001b[0mopen\u001b[0m\u001b[0;34m(\u001b[0m\u001b[0mfilename\u001b[0m\u001b[0;34m,\u001b[0m \u001b[0;34m'rb'\u001b[0m\u001b[0;34m)\u001b[0m \u001b[0;32mas\u001b[0m \u001b[0mfile\u001b[0m\u001b[0;34m:\u001b[0m\u001b[0;34m\u001b[0m\u001b[0m\n\u001b[0m\u001b[1;32m    302\u001b[0m                 \u001b[0mself\u001b[0m\u001b[0;34m.\u001b[0m\u001b[0m_load\u001b[0m\u001b[0;34m(\u001b[0m\u001b[0mfile\u001b[0m\u001b[0;34m)\u001b[0m\u001b[0;34m\u001b[0m\u001b[0m\n\u001b[1;32m    303\u001b[0m \u001b[0;34m\u001b[0m\u001b[0m\n",
      "\u001b[0;31mFileNotFoundError\u001b[0m: [Errno 2] No such file or directory: 'midis/Blues_Licks_-_Claus_Winther_Style_Solo.mid'"
     ]
    }
   ],
   "source": [
    "import mido\n",
    "import numpy as np\n",
    "from mido import MidiFile\n",
    "\n",
    "mid = MidiFile('midis/Blues_Licks_-_Claus_Winther_Style_Solo.mid')"
   ]
  },
  {
   "cell_type": "code",
   "execution_count": 6,
   "metadata": {},
   "outputs": [
    {
     "ename": "NameError",
     "evalue": "name 'mid' is not defined",
     "output_type": "error",
     "traceback": [
      "\u001b[0;31m---------------------------------------------------------------------------\u001b[0m",
      "\u001b[0;31mNameError\u001b[0m                                 Traceback (most recent call last)",
      "\u001b[0;32m<ipython-input-6-9017848d918c>\u001b[0m in \u001b[0;36m<module>\u001b[0;34m()\u001b[0m\n\u001b[1;32m      4\u001b[0m \u001b[0mpitch\u001b[0m \u001b[0;34m=\u001b[0m\u001b[0;36m0\u001b[0m\u001b[0;34m\u001b[0m\u001b[0m\n\u001b[1;32m      5\u001b[0m \u001b[0mnote_on\u001b[0m \u001b[0;34m=\u001b[0m \u001b[0;36m0\u001b[0m\u001b[0;34m\u001b[0m\u001b[0m\n\u001b[0;32m----> 6\u001b[0;31m \u001b[0;32mfor\u001b[0m \u001b[0mj\u001b[0m\u001b[0;34m,\u001b[0m \u001b[0mtrack\u001b[0m \u001b[0;32min\u001b[0m \u001b[0menumerate\u001b[0m\u001b[0;34m(\u001b[0m\u001b[0mmid\u001b[0m\u001b[0;34m.\u001b[0m\u001b[0mtracks\u001b[0m\u001b[0;34m)\u001b[0m\u001b[0;34m:\u001b[0m\u001b[0;34m\u001b[0m\u001b[0m\n\u001b[0m\u001b[1;32m      7\u001b[0m         \u001b[0;32mfor\u001b[0m \u001b[0mmsg\u001b[0m \u001b[0;32min\u001b[0m \u001b[0mtrack\u001b[0m\u001b[0;34m:\u001b[0m\u001b[0;34m\u001b[0m\u001b[0m\n\u001b[1;32m      8\u001b[0m             \u001b[0mbar\u001b[0m \u001b[0;34m=\u001b[0m \u001b[0mmath\u001b[0m\u001b[0;34m.\u001b[0m\u001b[0mfloor\u001b[0m\u001b[0;34m(\u001b[0m\u001b[0mround\u001b[0m\u001b[0;34m(\u001b[0m\u001b[0mi\u001b[0m\u001b[0;34m)\u001b[0m\u001b[0;34m/\u001b[0m\u001b[0;36m16\u001b[0m\u001b[0;34m)\u001b[0m\u001b[0;34m\u001b[0m\u001b[0m\n",
      "\u001b[0;31mNameError\u001b[0m: name 'mid' is not defined"
     ]
    }
   ],
   "source": [
    "i = 0\n",
    "data = np.tile(0,(100,16))\n",
    "bar = 0\n",
    "pitch =0\n",
    "note_on = 0\n",
    "for j, track in enumerate(mid.tracks):\n",
    "        for msg in track:\n",
    "            bar = math.floor(round(i)/16)\n",
    "\n",
    "            if note_on:\n",
    "                if msg.type == \"pitchwheel\":\n",
    "                    pitch=pitch + msg.time\n",
    "\n",
    "                if msg.type == \"note_off\":\n",
    "\n",
    "                    for n in range(int(round(i)%16), int(round(i)%16+(msg.time+pitch)/240)):\n",
    "                        if n<16:\n",
    "                            data[bar][n]=msg.note\n",
    "                        else:\n",
    "                            data[bar+1][n-16] = msg.note\n",
    "                    i=i+(msg.time+pitch)/240\n",
    "                    pitch=0\n",
    "                    note_on=0\n",
    "            \n",
    "            else:\n",
    "                if msg.type == \"note_on\":\n",
    "                    i = i+msg.time/240\n",
    "                    pitch = 0\n",
    "                    note_on=1\n",
    "                elif msg.type == \"pitchwheel\":\n",
    "                    i=i+msg.time/240\n",
    "\n",
    "                \n",
    "                \n",
    "\n",
    "print(data[:50])\n",
    "                "
   ]
  },
  {
   "cell_type": "code",
   "execution_count": 7,
   "metadata": {},
   "outputs": [
    {
     "name": "stdout",
     "output_type": "stream",
     "text": [
      "[[0 0 0 ..., 0 0 0]\n",
      " [0 0 0 ..., 0 0 0]\n",
      " [0 0 0 ..., 0 0 0]\n",
      " ..., \n",
      " [0 0 0 ..., 0 0 0]\n",
      " [0 0 0 ..., 0 0 0]\n",
      " [0 0 0 ..., 0 0 0]]\n"
     ]
    }
   ],
   "source": [
    "i=0\n",
    "newdata = np.tile(0,(70,16))\n",
    "\n",
    "for bar in data:\n",
    "    zero_els = np.count_nonzero(bar==0)\n",
    "    if zero_els != 16:\n",
    "        newdata[i] = bar\n",
    "        i=i+1\n",
    "        \n",
    "print(newdata)   "
   ]
  },
  {
   "cell_type": "code",
   "execution_count": null,
   "metadata": {
    "collapsed": true
   },
   "outputs": [],
   "source": [
    "np.savetxt(\"data2.csv\", data, delimiter=\",\")"
   ]
  },
  {
   "cell_type": "code",
   "execution_count": null,
   "metadata": {
    "collapsed": true
   },
   "outputs": [],
   "source": [
    "cleanedata = np.tile(0,(364,17,50))\n",
    "i=0\n",
    "for array in data:\n",
    "    for j in range(0,16):\n",
    "        if float(array[j])>0:\n",
    "            note_id=int(float(array[j])-40)\n",
    "            cleanedata[i][j][note_id]=1\n",
    "            \n",
    "            \n",
    "    tune = array[16]\n",
    "    if tune=='C':\n",
    "        cleanedata[i][16][32]=1\n",
    "        cleanedata[i][16][36]=1\n",
    "        cleanedata[i][16][39]=1\n",
    "    elif tune == 'F':\n",
    "        cleanedata[i][16][37]=1\n",
    "        cleanedata[i][16][41]=1\n",
    "        cleanedata[i][16][44]=1\n",
    "    elif tune == 'A':\n",
    "        cleanedata[i][16][41]=1\n",
    "        cleanedata[i][16][45]=1\n",
    "        cleanedata[i][16][48]=1\n",
    "    elif tune == 'Am':\n",
    "        cleanedata[i][16][41]=1\n",
    "        cleanedata[i][16][44]=1\n",
    "        cleanedata[i][16][48]=1\n",
    "    elif tune == 'D':\n",
    "        cleanedata[i][16][34]=1\n",
    "        cleanedata[i][16][38]=1\n",
    "        cleanedata[i][16][41]=1\n",
    "    elif tune == 'Dm':\n",
    "        cleanedata[i][16][34]=1\n",
    "        cleanedata[i][16][37]=1\n",
    "        cleanedata[i][16][41]=1\n",
    "    elif tune == 'E':\n",
    "        cleanedata[i][16][36]=1\n",
    "        cleanedata[i][16][40]=1\n",
    "        cleanedata[i][16][43]=1\n",
    "    elif tune == 'Em':\n",
    "        cleanedata[i][16][36]=1\n",
    "        cleanedata[i][16][39]=1\n",
    "        cleanedata[i][16][43]=1\n",
    "    elif tune == 'B':\n",
    "        cleanedata[i][16][31]=1\n",
    "        cleanedata[i][16][35]=1\n",
    "        cleanedata[i][16][39]=1\n",
    "    elif tune == 'Bm':\n",
    "        cleanedata[i][16][31]=1\n",
    "        cleanedata[i][16][34]=1\n",
    "        cleanedata[i][16][39]=1\n",
    "    i=i+1\n",
    "\n",
    "print(cleanedata.shape)"
   ]
  },
  {
   "cell_type": "code",
   "execution_count": null,
   "metadata": {
    "collapsed": true
   },
   "outputs": [],
   "source": [
    "#transform (364,17,50) into (364,850)\n",
    "\n",
    "def preprocess(x):\n",
    "    ret = torch.Tensor(364,850).zero_()\n",
    "    for i in range(0,364):\n",
    "        for j in range(0,17):\n",
    "            for k in range(0,50):\n",
    "                ret[i][j*50+k]= int(x[i][j][k])\n",
    "        \n",
    "    return ret"
   ]
  },
  {
   "cell_type": "code",
   "execution_count": 3,
   "metadata": {},
   "outputs": [],
   "source": [
    "data=np.loadtxt(open(\"data.csv\", \"rb\"), delimiter=\",\", skiprows=0, dtype=str)\n"
   ]
  },
  {
   "cell_type": "code",
   "execution_count": 10,
   "metadata": {},
   "outputs": [
    {
     "name": "stdout",
     "output_type": "stream",
     "text": [
      "(364, 19)\n"
     ]
    }
   ],
   "source": [
    "cleanedata = np.tile(0,(364,19))\n",
    "i=0\n",
    "for array in data:\n",
    "    for j in range(0,16):\n",
    "        if float(array[j])>0:\n",
    "            note_id=int(float(array[j])-40)\n",
    "            cleanedata[i][j]=note_id\n",
    "            \n",
    "            \n",
    "    tune = array[16]\n",
    "    if tune=='C':\n",
    "        cleanedata[i][16]=20\n",
    "        cleanedata[i][17]=24\n",
    "        cleanedata[i][18]=27\n",
    "    elif tune == 'F':\n",
    "        cleanedata[i][16]=25\n",
    "        cleanedata[i][17]=29\n",
    "        cleanedata[i][18]=32\n",
    "    elif tune == 'A':\n",
    "        cleanedata[i][16]=29\n",
    "        cleanedata[i][17]=33\n",
    "        cleanedata[i][18]=36\n",
    "    elif tune == 'Am':\n",
    "        cleanedata[i][16]=29\n",
    "        cleanedata[i][17]=32\n",
    "        cleanedata[i][18]=36\n",
    "    elif tune == 'D':\n",
    "        cleanedata[i][16]=22\n",
    "        cleanedata[i][17]=26\n",
    "        cleanedata[i][18]=29\n",
    "    elif tune == 'Dm':\n",
    "        cleanedata[i][16]=22\n",
    "        cleanedata[i][17]=25\n",
    "        cleanedata[i][18]=29\n",
    "    elif tune == 'E':\n",
    "        cleanedata[i][16]=24\n",
    "        cleanedata[i][17]=28\n",
    "        cleanedata[i][18]=31\n",
    "    elif tune == 'Em':\n",
    "        cleanedata[i][16]=24\n",
    "        cleanedata[i][17]=27\n",
    "        cleanedata[i][18]=31\n",
    "    elif tune == 'B':\n",
    "        cleanedata[i][16]=19\n",
    "        cleanedata[i][17]=23\n",
    "        cleanedata[i][18]=26\n",
    "    elif tune == 'Bm':\n",
    "        cleanedata[i][16]=19\n",
    "        cleanedata[i][17]=22\n",
    "        cleanedata[i][18]=26\n",
    "    i=i+1\n",
    "\n",
    "print(cleanedata.shape)\n"
   ]
  },
  {
   "cell_type": "code",
   "execution_count": 11,
   "metadata": {},
   "outputs": [
    {
     "name": "stdout",
     "output_type": "stream",
     "text": [
      "[40 40 37 37 35 35 37 37 42 42 42 42 42 42 42 42 25 29 32]\n"
     ]
    }
   ],
   "source": [
    "print(cleanedata[363])"
   ]
  },
  {
   "cell_type": "code",
   "execution_count": 15,
   "metadata": {
    "collapsed": true
   },
   "outputs": [],
   "source": [
    "shifted = np.tile(0,(4368,19))\n",
    "for i in range(0,364):\n",
    "    shifted[i]=cleanedata[i]"
   ]
  },
  {
   "cell_type": "code",
   "execution_count": 23,
   "metadata": {},
   "outputs": [
    {
     "name": "stdout",
     "output_type": "stream",
     "text": [
      "[40 40 37 37 35 35 37 37 42 42 42 42 42 42 42 42 37 41 44]\n"
     ]
    }
   ],
   "source": [
    "print(shifted[363])"
   ]
  },
  {
   "cell_type": "code",
   "execution_count": 16,
   "metadata": {
    "collapsed": true
   },
   "outputs": [],
   "source": [
    "i = 364\n",
    "for bar in cleanedata:\n",
    "    for shift in range(1,12):\n",
    "        shifted[i]=(bar+shift)%50\n",
    "        i=i+1"
   ]
  },
  {
   "cell_type": "code",
   "execution_count": 13,
   "metadata": {},
   "outputs": [
    {
     "name": "stdout",
     "output_type": "stream",
     "text": [
      "[39 36  7 31 39 36  7 31 39 36  7 31 34 34 36 36 36 40 43]\n"
     ]
    }
   ],
   "source": [
    "print(shifted[4000])"
   ]
  },
  {
   "cell_type": "code",
   "execution_count": 27,
   "metadata": {},
   "outputs": [
    {
     "data": {
      "text/plain": [
       "-1.0"
      ]
     },
     "execution_count": 27,
     "metadata": {},
     "output_type": "execute_result"
    }
   ],
   "source": [
    "#normalisation -1 ; 1\n"
   ]
  },
  {
   "cell_type": "code",
   "execution_count": 28,
   "metadata": {
    "collapsed": true
   },
   "outputs": [],
   "source": [
    "np.savetxt(\"extended.csv\",shifted,delimiter=\",\")"
   ]
  }
 ],
 "metadata": {
  "kernelspec": {
   "display_name": "Python 3",
   "language": "python",
   "name": "python3"
  },
  "language_info": {
   "codemirror_mode": {
    "name": "ipython",
    "version": 3
   },
   "file_extension": ".py",
   "mimetype": "text/x-python",
   "name": "python",
   "nbconvert_exporter": "python",
   "pygments_lexer": "ipython3",
   "version": "3.6.2"
  }
 },
 "nbformat": 4,
 "nbformat_minor": 2
}
