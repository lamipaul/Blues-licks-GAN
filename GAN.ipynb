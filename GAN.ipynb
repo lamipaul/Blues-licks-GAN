{
 "cells": [
  {
   "cell_type": "code",
   "execution_count": 1,
   "metadata": {
    "collapsed": true
   },
   "outputs": [],
   "source": [
    "import pandas\n",
    "import torch\n",
    "import torch.nn as nn\n",
    "import torch.nn.functional as Fu\n",
    "import numpy as np\n",
    "from torch.autograd import Variable"
   ]
  },
  {
   "cell_type": "code",
   "execution_count": null,
   "metadata": {
    "collapsed": true
   },
   "outputs": [],
   "source": [
    "    "
   ]
  },
  {
   "cell_type": "code",
   "execution_count": 81,
   "metadata": {},
   "outputs": [
    {
     "name": "stdout",
     "output_type": "stream",
     "text": [
      "(4368, 19)\n"
     ]
    }
   ],
   "source": [
    "data=np.loadtxt(open(\"extended.csv\", \"rb\"), delimiter=\",\", skiprows=0, dtype=float)\n",
    "print(data.shape)"
   ]
  },
  {
   "cell_type": "code",
   "execution_count": null,
   "metadata": {
    "collapsed": true
   },
   "outputs": [],
   "source": []
  },
  {
   "cell_type": "code",
   "execution_count": 83,
   "metadata": {},
   "outputs": [
    {
     "name": "stdout",
     "output_type": "stream",
     "text": [
      "Variable containing:\n",
      " 0.0800  0.0800  0.2800  ...  -0.2000 -0.0400  0.0800\n",
      " 0.1600  0.1600  0.0800  ...  -0.2000 -0.0400  0.0800\n",
      " 0.4000  0.4000  0.4000  ...  -0.2000 -0.0400  0.0800\n",
      "          ...             ⋱             ...          \n",
      " 0.9600  0.9600  0.8400  ...   0.3600  0.5200  0.6400\n",
      "-1.0000 -1.0000  0.8800  ...   0.4000  0.5600  0.6800\n",
      "-0.9600 -0.9600  0.9200  ...   0.4400  0.6000  0.7200\n",
      "[torch.DoubleTensor of size 4368x19]\n",
      "\n"
     ]
    }
   ],
   "source": [
    "real_data = torch.Tensor()\n",
    "real_data = Variable(torch.from_numpy(data))\n",
    "print(real_data)"
   ]
  },
  {
   "cell_type": "code",
   "execution_count": 50,
   "metadata": {
    "collapsed": true
   },
   "outputs": [],
   "source": [
    "import numpy.random\n",
    "#returns 50 inputs for the Generator (3 features chord and 1 noise)\n",
    "def generator_input(n):\n",
    "    ret = Variable(torch.Tensor(n,4))\n",
    "    ret[:,0]=torch.rand(n)*2 -1\n",
    "    ret[:,1]=torch.rand(n)*2 -1\n",
    "    ret[:,2]=torch.rand(n)*2 -1\n",
    "    ret[:,3]=torch.rand(n)*2 -1\n",
    "    return ret"
   ]
  },
  {
   "cell_type": "code",
   "execution_count": 49,
   "metadata": {},
   "outputs": [
    {
     "data": {
      "text/plain": [
       "Variable containing:\n",
       " 0.6173  0.2465  0.2045 -0.5078\n",
       "-0.2040 -0.1341  0.2464 -0.9112\n",
       " 0.0692 -0.9724  0.1820 -0.0404\n",
       "-0.5417  0.4683 -0.3361 -0.0844\n",
       "-0.0842  0.2775  0.6331 -0.0878\n",
       "[torch.FloatTensor of size 5x4]"
      ]
     },
     "execution_count": 49,
     "metadata": {},
     "output_type": "execute_result"
    }
   ],
   "source": [
    "generator_input(5)"
   ]
  },
  {
   "cell_type": "code",
   "execution_count": 15,
   "metadata": {
    "collapsed": true
   },
   "outputs": [],
   "source": [
    "class Discri(nn.Module):\n",
    "    def __init__(self):\n",
    "        super(Discri, self).__init__()\n",
    "        self.lin1 = nn.Linear(19, 19)\n",
    "        self.lin2 = nn.Linear(19, 19)\n",
    "        self.lin3 = nn.Linear(19, 1)\n",
    " \n",
    "    def forward(self, x):\n",
    "        x = Fu.leaky_relu(self.lin1(x))\n",
    "        x = Fu.leaky_relu(self.lin2(x))\n",
    "        return Fu.sigmoid(self.lin3(x))"
   ]
  },
  {
   "cell_type": "code",
   "execution_count": null,
   "metadata": {},
   "outputs": [],
   "source": []
  },
  {
   "cell_type": "code",
   "execution_count": 16,
   "metadata": {
    "collapsed": true
   },
   "outputs": [],
   "source": [
    "\n",
    "class Gene(nn.Module):\n",
    "    def __init__(self):\n",
    "        super(Gene, self).__init__()\n",
    "        self.lin1 = nn.Linear(4, 4)\n",
    "        self.lin1.weights = torch.ones(4,4)\n",
    "        self.lin2 = nn.Linear(4,16)\n",
    "        self.lin2.weights = torch.ones(4,16)\n",
    "        self.lin3 = nn.Linear(16, 16)\n",
    "        self.lin3.weights = torch.ones(16,16)\n",
    "        \n",
    "    def forward(self, x):\n",
    "        x = Fu.leaky_relu(self.lin1(x))\n",
    "        x = Fu.dropout(Fu.leaky_relu(self.lin2(x)))\n",
    "        return Fu.leaky_relu(self.lin3(x))"
   ]
  },
  {
   "cell_type": "code",
   "execution_count": 51,
   "metadata": {},
   "outputs": [
    {
     "data": {
      "text/plain": [
       "Variable containing:\n",
       "\n",
       "Columns 0 to 9 \n",
       "-0.0001 -0.0020 -0.0002  0.1608 -0.0007  0.1141 -0.0017  0.0842  0.2535  0.1096\n",
       "-0.0003 -0.0022 -0.0005  0.1805 -0.0009  0.1042 -0.0012  0.0753  0.2507  0.0774\n",
       "-0.0001 -0.0017 -0.0008  0.1407 -0.0012  0.1200 -0.0021  0.1103  0.2502  0.1824\n",
       "-0.0003 -0.0022 -0.0005  0.1811 -0.0009  0.1041 -0.0012  0.0751  0.2506  0.0769\n",
       "-0.0004 -0.0024 -0.0007  0.1752 -0.0013  0.1152 -0.0015  0.0641  0.2709  0.1065\n",
       "-0.0001 -0.0018 -0.0006  0.1441 -0.0010  0.1183 -0.0020  0.1051  0.2486  0.1699\n",
       "-0.0003 -0.0021 -0.0008  0.1536 -0.0015  0.1225 -0.0019  0.0884  0.2715  0.1547\n",
       "-0.0008 -0.0025 -0.0011  0.1668 -0.0022  0.1294 -0.0017  0.0623  0.3076  0.1257\n",
       "-0.0004 -0.0024 -0.0007  0.1832 -0.0011  0.1068 -0.0012  0.0674  0.2598  0.0828\n",
       "-0.0003 -0.0023 -0.0006  0.1812 -0.0010  0.1050 -0.0012  0.0731  0.2533  0.0791\n",
       "\n",
       "Columns 10 to 18 \n",
       "-0.0022 -0.0021  0.1610  0.2393  0.1370  0.4124 -0.3542 -0.9150  0.4613\n",
       "-0.0025 -0.0024  0.1846  0.1795  0.1396  0.4076 -0.2016  0.5494  0.2745\n",
       "-0.0025 -0.0019  0.1364  0.2918  0.1298  0.4406 -0.1943 -0.9844  0.4403\n",
       "-0.0026 -0.0024  0.1853  0.1781  0.1402  0.4074  0.9661  0.6883  0.1906\n",
       "-0.0025 -0.0026  0.1601  0.1988  0.1139  0.4176  0.6580 -0.2648  0.8596\n",
       "-0.0024 -0.0019  0.1412  0.2828  0.1328  0.4363 -0.4455 -0.9030  0.6360\n",
       "-0.0025 -0.0024  0.1400  0.2536  0.1090  0.4321 -0.9698 -0.1505  0.6298\n",
       "-0.0027 -0.0032  0.1411  0.2073  0.0726  0.4234 -0.5864  0.5389  0.2342\n",
       "-0.0026 -0.0026  0.1790  0.1725  0.1275  0.4112  0.0077  0.8416  0.4135\n",
       "-0.0026 -0.0024  0.1829  0.1777  0.1363  0.4086  0.5116  0.0685  0.1398\n",
       "[torch.FloatTensor of size 10x19]"
      ]
     },
     "execution_count": 51,
     "metadata": {},
     "output_type": "execute_result"
    }
   ],
   "source": [
    "gene=Gene()\n",
    "gene_fake(10)"
   ]
  },
  {
   "cell_type": "code",
   "execution_count": 62,
   "metadata": {
    "collapsed": true
   },
   "outputs": [],
   "source": [
    "#generates a set of 4000 samples of data generated by the GENERATOR with random chords\n",
    "def gene_fake(n):\n",
    "\n",
    "    ret = Variable(torch.Tensor(n,19))\n",
    "    gene_input = generator_input(n)\n",
    "    ret[:,:16] = gene(gene_input).detach()\n",
    "    ret[:,16]=torch.ones(n)*36/25 -1\n",
    "    ret[:,17]=torch.ones(n)*40/25 -1\n",
    "    ret[:,18]=torch.ones(n)*43/25 -1\n",
    "\n",
    "    return ret"
   ]
  },
  {
   "cell_type": "code",
   "execution_count": 79,
   "metadata": {},
   "outputs": [],
   "source": [
    "#initializations \n",
    "\n",
    "discri = Discri()\n",
    "gene = Gene()\n",
    "\n",
    "learning_rate = 1e-4\n",
    "loss_disc = torch.nn.MSELoss()\n",
    "loss_gene = torch.nn.NLLLoss()\n",
    "disc_optim = torch.optim.SGD(discri.parameters(), lr=learning_rate)\n",
    "gene_optim = torch.optim.Adam(gene.parameters(), lr=learning_rate)\n",
    "\n",
    "input = Variable(torch.Tensor(8368,19))\n",
    "input[:4368] = real_data\n",
    "input[4368:]= gene_fake(4000)\n",
    "\n",
    "exp_output = Variable(torch.Tensor(8368))\n",
    "exp_output[:4368] = torch.rand(4368)*0.2 + 0.9 #for real data\n",
    "exp_output[4368:] = torch.rand(4000)*0.2 #for fake data\n",
    "\n",
    "batch_size = 200"
   ]
  },
  {
   "cell_type": "code",
   "execution_count": null,
   "metadata": {},
   "outputs": [],
   "source": []
  },
  {
   "cell_type": "code",
   "execution_count": 80,
   "metadata": {},
   "outputs": [
    {
     "name": "stdout",
     "output_type": "stream",
     "text": [
      "epoch : 0\n",
      "discrimator loss : 0.19353632628917694\n"
     ]
    },
    {
     "ename": "RuntimeError",
     "evalue": "Assertion `cur_target >= 0 && cur_target < n_classes' failed.  at /opt/conda/conda-bld/pytorch_1503970438496/work/torch/lib/THNN/generic/ClassNLLCriterion.c:62",
     "output_type": "error",
     "traceback": [
      "\u001b[0;31m---------------------------------------------------------------------------\u001b[0m",
      "\u001b[0;31mRuntimeError\u001b[0m                              Traceback (most recent call last)",
      "\u001b[0;32m<ipython-input-80-cba437888162>\u001b[0m in \u001b[0;36m<module>\u001b[0;34m()\u001b[0m\n\u001b[1;32m     16\u001b[0m         \u001b[0mgenerated\u001b[0m \u001b[0;34m=\u001b[0m \u001b[0mgene_fake\u001b[0m\u001b[0;34m(\u001b[0m\u001b[0;36m50\u001b[0m\u001b[0;34m)\u001b[0m\u001b[0;34m\u001b[0m\u001b[0m\n\u001b[1;32m     17\u001b[0m         \u001b[0mresult\u001b[0m \u001b[0;34m=\u001b[0m \u001b[0mdiscri\u001b[0m\u001b[0;34m(\u001b[0m\u001b[0mgenerated\u001b[0m\u001b[0;34m)\u001b[0m\u001b[0;34m\u001b[0m\u001b[0m\n\u001b[0;32m---> 18\u001b[0;31m         \u001b[0mloss\u001b[0m \u001b[0;34m=\u001b[0m \u001b[0mloss_gene\u001b[0m\u001b[0;34m(\u001b[0m\u001b[0mresult\u001b[0m\u001b[0;34m,\u001b[0m\u001b[0mVariable\u001b[0m\u001b[0;34m(\u001b[0m\u001b[0mtorch\u001b[0m\u001b[0;34m.\u001b[0m\u001b[0mLongTensor\u001b[0m\u001b[0;34m(\u001b[0m\u001b[0;36m50\u001b[0m\u001b[0;34m)\u001b[0m\u001b[0;34m.\u001b[0m\u001b[0mzero_\u001b[0m\u001b[0;34m(\u001b[0m\u001b[0;34m)\u001b[0m\u001b[0;34m)\u001b[0m\u001b[0;34m+\u001b[0m\u001b[0;36m1\u001b[0m\u001b[0;34m)\u001b[0m\u001b[0;34m\u001b[0m\u001b[0m\n\u001b[0m\u001b[1;32m     19\u001b[0m         \u001b[0mgene_optim\u001b[0m\u001b[0;34m.\u001b[0m\u001b[0mzero_grad\u001b[0m\u001b[0;34m(\u001b[0m\u001b[0;34m)\u001b[0m\u001b[0;34m\u001b[0m\u001b[0m\n\u001b[1;32m     20\u001b[0m         \u001b[0mloss\u001b[0m\u001b[0;34m.\u001b[0m\u001b[0mbackward\u001b[0m\u001b[0;34m(\u001b[0m\u001b[0mretain_graph\u001b[0m\u001b[0;34m=\u001b[0m\u001b[0;32mTrue\u001b[0m\u001b[0;34m)\u001b[0m\u001b[0;34m\u001b[0m\u001b[0m\n",
      "\u001b[0;32m~/anaconda3/lib/python3.6/site-packages/torch/nn/modules/module.py\u001b[0m in \u001b[0;36m__call__\u001b[0;34m(self, *input, **kwargs)\u001b[0m\n\u001b[1;32m    222\u001b[0m         \u001b[0;32mfor\u001b[0m \u001b[0mhook\u001b[0m \u001b[0;32min\u001b[0m \u001b[0mself\u001b[0m\u001b[0;34m.\u001b[0m\u001b[0m_forward_pre_hooks\u001b[0m\u001b[0;34m.\u001b[0m\u001b[0mvalues\u001b[0m\u001b[0;34m(\u001b[0m\u001b[0;34m)\u001b[0m\u001b[0;34m:\u001b[0m\u001b[0;34m\u001b[0m\u001b[0m\n\u001b[1;32m    223\u001b[0m             \u001b[0mhook\u001b[0m\u001b[0;34m(\u001b[0m\u001b[0mself\u001b[0m\u001b[0;34m,\u001b[0m \u001b[0minput\u001b[0m\u001b[0;34m)\u001b[0m\u001b[0;34m\u001b[0m\u001b[0m\n\u001b[0;32m--> 224\u001b[0;31m         \u001b[0mresult\u001b[0m \u001b[0;34m=\u001b[0m \u001b[0mself\u001b[0m\u001b[0;34m.\u001b[0m\u001b[0mforward\u001b[0m\u001b[0;34m(\u001b[0m\u001b[0;34m*\u001b[0m\u001b[0minput\u001b[0m\u001b[0;34m,\u001b[0m \u001b[0;34m**\u001b[0m\u001b[0mkwargs\u001b[0m\u001b[0;34m)\u001b[0m\u001b[0;34m\u001b[0m\u001b[0m\n\u001b[0m\u001b[1;32m    225\u001b[0m         \u001b[0;32mfor\u001b[0m \u001b[0mhook\u001b[0m \u001b[0;32min\u001b[0m \u001b[0mself\u001b[0m\u001b[0;34m.\u001b[0m\u001b[0m_forward_hooks\u001b[0m\u001b[0;34m.\u001b[0m\u001b[0mvalues\u001b[0m\u001b[0;34m(\u001b[0m\u001b[0;34m)\u001b[0m\u001b[0;34m:\u001b[0m\u001b[0;34m\u001b[0m\u001b[0m\n\u001b[1;32m    226\u001b[0m             \u001b[0mhook_result\u001b[0m \u001b[0;34m=\u001b[0m \u001b[0mhook\u001b[0m\u001b[0;34m(\u001b[0m\u001b[0mself\u001b[0m\u001b[0;34m,\u001b[0m \u001b[0minput\u001b[0m\u001b[0;34m,\u001b[0m \u001b[0mresult\u001b[0m\u001b[0;34m)\u001b[0m\u001b[0;34m\u001b[0m\u001b[0m\n",
      "\u001b[0;32m~/anaconda3/lib/python3.6/site-packages/torch/nn/modules/loss.py\u001b[0m in \u001b[0;36mforward\u001b[0;34m(self, input, target)\u001b[0m\n\u001b[1;32m    130\u001b[0m         \u001b[0m_assert_no_grad\u001b[0m\u001b[0;34m(\u001b[0m\u001b[0mtarget\u001b[0m\u001b[0;34m)\u001b[0m\u001b[0;34m\u001b[0m\u001b[0m\n\u001b[1;32m    131\u001b[0m         return F.nll_loss(input, target, self.weight, self.size_average,\n\u001b[0;32m--> 132\u001b[0;31m                           self.ignore_index)\n\u001b[0m\u001b[1;32m    133\u001b[0m \u001b[0;34m\u001b[0m\u001b[0m\n\u001b[1;32m    134\u001b[0m \u001b[0;34m\u001b[0m\u001b[0m\n",
      "\u001b[0;32m~/anaconda3/lib/python3.6/site-packages/torch/nn/functional.py\u001b[0m in \u001b[0;36mnll_loss\u001b[0;34m(input, target, weight, size_average, ignore_index)\u001b[0m\n\u001b[1;32m    670\u001b[0m     \u001b[0mdim\u001b[0m \u001b[0;34m=\u001b[0m \u001b[0minput\u001b[0m\u001b[0;34m.\u001b[0m\u001b[0mdim\u001b[0m\u001b[0;34m(\u001b[0m\u001b[0;34m)\u001b[0m\u001b[0;34m\u001b[0m\u001b[0m\n\u001b[1;32m    671\u001b[0m     \u001b[0;32mif\u001b[0m \u001b[0mdim\u001b[0m \u001b[0;34m==\u001b[0m \u001b[0;36m2\u001b[0m\u001b[0;34m:\u001b[0m\u001b[0;34m\u001b[0m\u001b[0m\n\u001b[0;32m--> 672\u001b[0;31m         \u001b[0;32mreturn\u001b[0m \u001b[0m_functions\u001b[0m\u001b[0;34m.\u001b[0m\u001b[0mthnn\u001b[0m\u001b[0;34m.\u001b[0m\u001b[0mNLLLoss\u001b[0m\u001b[0;34m.\u001b[0m\u001b[0mapply\u001b[0m\u001b[0;34m(\u001b[0m\u001b[0minput\u001b[0m\u001b[0;34m,\u001b[0m \u001b[0mtarget\u001b[0m\u001b[0;34m,\u001b[0m \u001b[0mweight\u001b[0m\u001b[0;34m,\u001b[0m \u001b[0msize_average\u001b[0m\u001b[0;34m,\u001b[0m \u001b[0mignore_index\u001b[0m\u001b[0;34m)\u001b[0m\u001b[0;34m\u001b[0m\u001b[0m\n\u001b[0m\u001b[1;32m    673\u001b[0m     \u001b[0;32melif\u001b[0m \u001b[0mdim\u001b[0m \u001b[0;34m==\u001b[0m \u001b[0;36m4\u001b[0m\u001b[0;34m:\u001b[0m\u001b[0;34m\u001b[0m\u001b[0m\n\u001b[1;32m    674\u001b[0m         \u001b[0;32mreturn\u001b[0m \u001b[0m_functions\u001b[0m\u001b[0;34m.\u001b[0m\u001b[0mthnn\u001b[0m\u001b[0;34m.\u001b[0m\u001b[0mNLLLoss2d\u001b[0m\u001b[0;34m.\u001b[0m\u001b[0mapply\u001b[0m\u001b[0;34m(\u001b[0m\u001b[0minput\u001b[0m\u001b[0;34m,\u001b[0m \u001b[0mtarget\u001b[0m\u001b[0;34m,\u001b[0m \u001b[0mweight\u001b[0m\u001b[0;34m,\u001b[0m \u001b[0msize_average\u001b[0m\u001b[0;34m,\u001b[0m \u001b[0mignore_index\u001b[0m\u001b[0;34m)\u001b[0m\u001b[0;34m\u001b[0m\u001b[0m\n",
      "\u001b[0;32m~/anaconda3/lib/python3.6/site-packages/torch/nn/_functions/thnn/auto.py\u001b[0m in \u001b[0;36mforward\u001b[0;34m(ctx, input, target, *args)\u001b[0m\n\u001b[1;32m     45\u001b[0m         \u001b[0moutput\u001b[0m \u001b[0;34m=\u001b[0m \u001b[0minput\u001b[0m\u001b[0;34m.\u001b[0m\u001b[0mnew\u001b[0m\u001b[0;34m(\u001b[0m\u001b[0;36m1\u001b[0m\u001b[0;34m)\u001b[0m\u001b[0;34m\u001b[0m\u001b[0m\n\u001b[1;32m     46\u001b[0m         getattr(ctx._backend, update_output.name)(ctx._backend.library_state, input, target,\n\u001b[0;32m---> 47\u001b[0;31m                                                   output, *ctx.additional_args)\n\u001b[0m\u001b[1;32m     48\u001b[0m         \u001b[0;32mreturn\u001b[0m \u001b[0moutput\u001b[0m\u001b[0;34m\u001b[0m\u001b[0m\n\u001b[1;32m     49\u001b[0m \u001b[0;34m\u001b[0m\u001b[0m\n",
      "\u001b[0;31mRuntimeError\u001b[0m: Assertion `cur_target >= 0 && cur_target < n_classes' failed.  at /opt/conda/conda-bld/pytorch_1503970438496/work/torch/lib/THNN/generic/ClassNLLCriterion.c:62"
     ]
    }
   ],
   "source": [
    "for epoch in range(0,20):\n",
    "    #training of discriminator\n",
    "    for i in range(0,500):\n",
    "        batch_index = (batch_size*i)%len(input)\n",
    "        decision = discri(input[batch_index : (batch_index + batch_size)])\n",
    "        loss = loss_disc(decision, exp_output[batch_index : (batch_index + batch_size)])      \n",
    "        disc_optim.zero_grad()\n",
    "        loss.backward(retain_graph=True)\n",
    "        disc_optim.step()\n",
    "\n",
    "    print(\"epoch :\",epoch)\n",
    "    print(\"discrimator loss :\",loss.data[0])\n",
    "\n",
    "    #training og generator\n",
    "    for i in range(0,500):\n",
    "        generated = gene_fake(50)\n",
    "        result = discri(generated)\n",
    "        loss = loss_gene(result,Variable(torch.LongTensor(50).zero_())+1)\n",
    "        gene_optim.zero_grad()\n",
    "        loss.backward(retain_graph=True)\n",
    "        gene_optim.step()\n",
    "    print(\"generator loss :\",loss.data[0])\n"
   ]
  },
  {
   "cell_type": "code",
   "execution_count": null,
   "metadata": {
    "collapsed": true
   },
   "outputs": [],
   "source": [
    "\n"
   ]
  },
  {
   "cell_type": "code",
   "execution_count": 38,
   "metadata": {},
   "outputs": [
    {
     "data": {
      "text/plain": [
       "[Parameter containing:\n",
       " -0.0774 -0.2617 -0.4840 -0.3261\n",
       "  0.0835  0.1075  0.4327 -0.0207\n",
       " -0.0357 -0.4261  0.4755 -0.0090\n",
       " -0.0083  0.2359  0.2078  0.1437\n",
       " [torch.FloatTensor of size 4x4], Parameter containing:\n",
       " -0.3659\n",
       "  0.0495\n",
       " -0.0354\n",
       "  0.4698\n",
       " [torch.FloatTensor of size 4]]"
      ]
     },
     "execution_count": 38,
     "metadata": {},
     "output_type": "execute_result"
    }
   ],
   "source": [
    "list(gene.lin1.parameters())"
   ]
  },
  {
   "cell_type": "code",
   "execution_count": 70,
   "metadata": {},
   "outputs": [
    {
     "data": {
      "text/plain": [
       "Variable containing:\n",
       "\n",
       "Columns 0 to 12 \n",
       "   25    25    25    25    28    29    28    34    25    25    25    25    25\n",
       "   25    25    25    25    28    29    29    34    25    25    25    25    25\n",
       "   25    25    25    25    28    29    28    34    25    25    25    25    25\n",
       "   25    25    25    25    28    29    28    34    25    25    25    25    25\n",
       "   26    25    25    25    28    29    29    34    25    25    25    25    25\n",
       "   26    25    25    25    28    29    29    34    25    25    25    25    25\n",
       "   25    25    25    25    28    29    28    34    25    25    25    25    25\n",
       "   25    25    25    25    28    29    28    34    25    25    25    25    25\n",
       "   26    25    25    25    28    29    29    34    25    25    25    25    25\n",
       "   25    25    26    25    29    29    28    34    25    25    25    25    25\n",
       "   25    25    25    25    29    29    28    34    25    25    25    25    25\n",
       "   25    25    26    25    29    28    28    34    25    25    25    25    25\n",
       "\n",
       "Columns 13 to 15 \n",
       "   25    31    25\n",
       "   25    31    25\n",
       "   25    31    25\n",
       "   25    31    25\n",
       "   25    30    25\n",
       "   25    31    25\n",
       "   25    31    25\n",
       "   25    31    25\n",
       "   25    30    25\n",
       "   25    31    25\n",
       "   25    31    25\n",
       "   25    32    25\n",
       "[torch.FloatTensor of size 12x16]"
      ]
     },
     "execution_count": 70,
     "metadata": {},
     "output_type": "execute_result"
    }
   ],
   "source": [
    "\n",
    "((gene(generator_input(12))+1)*25).round()"
   ]
  },
  {
   "cell_type": "code",
   "execution_count": 84,
   "metadata": {},
   "outputs": [
    {
     "name": "stdout",
     "output_type": "stream",
     "text": [
      "Variable containing:\n",
      "\n",
      "Columns 0 to 12 \n",
      "   -4     1    -4    -1     9    -7    -7    -4    -7     3     1    -5     1\n",
      "   -5     1    -3    -1     9    -7    -8    -4    -6     4     2    -6     2\n",
      "   -4     1    -4    -1     9    -7    -7    -4    -7     4     1    -6     1\n",
      "   -4     1    -4    -1     9    -7    -7    -4    -7     4     1    -6     1\n",
      "   -5     1    -3    -1    10    -8    -8    -4    -7     4     2    -7     2\n",
      "   -5     1    -5    -2    10    -8    -8    -4    -8     4     1    -6     1\n",
      "   -4     1    -4    -1     9    -7    -8    -4    -7     4     2    -6     1\n",
      "   -5     1    -3    -1     9    -7    -8    -4    -6     4     2    -6     1\n",
      "   -5     1    -5    -1    10    -8    -8    -4    -8     4     1    -6     1\n",
      "   -5     1    -4    -1    10    -8    -9    -4    -7     4     2    -7     1\n",
      "   -4     0    -5    -2     9    -7    -7    -3    -7     3     1    -5     0\n",
      "   -4     1    -4    -1     9    -7    -8    -4    -6     4     2    -6     1\n",
      "\n",
      "Columns 13 to 15 \n",
      "   -6    -2     6\n",
      "   -6    -3     6\n",
      "   -6    -2     6\n",
      "   -6    -2     6\n",
      "   -7    -3     6\n",
      "   -7    -2     7\n",
      "   -6    -2     6\n",
      "   -6    -3     6\n",
      "   -7    -2     7\n",
      "   -7    -3     7\n",
      "   -6    -2     6\n",
      "   -6    -3     6\n",
      "[torch.FloatTensor of size 12x16]\n",
      "\n"
     ]
    }
   ],
   "source": [
    "#generate blues song data CCCC FFCC GGCC\n",
    "C = 60.0\n",
    "G = 67.0\n",
    "F = 65.0\n",
    "ret = Variable(torch.Tensor(12,4))\n",
    "tune = torch.from_numpy(np.array([C,C,C,C,F,F,C,C,G,G,C,C]))\n",
    "tune2 = tune + 4\n",
    "tune3 = tune + 7\n",
    "ret[:,0]=tune\n",
    "ret[:,1]=tune2\n",
    "ret[:,2]=tune3\n",
    "ret[:,3]=torch.randperm(12)\n",
    "data = gene(ret).round()\n",
    "print(data)"
   ]
  },
  {
   "cell_type": "code",
   "execution_count": 98,
   "metadata": {},
   "outputs": [
    {
     "name": "stderr",
     "output_type": "stream",
     "text": [
      "/home/lamipaul/anaconda3/lib/python3.6/site-packages/midiutil/MidiFile.py:899: FutureWarning: Please explicitly set adjust_origin. Default behaviour will change in a future version.\n",
      "  FutureWarning)\n"
     ]
    },
    {
     "ename": "error",
     "evalue": "required argument is not an integer",
     "output_type": "error",
     "traceback": [
      "\u001b[0;31m---------------------------------------------------------------------------\u001b[0m",
      "\u001b[0;31merror\u001b[0m                                     Traceback (most recent call last)",
      "\u001b[0;32m<ipython-input-98-333509551f54>\u001b[0m in \u001b[0;36m<module>\u001b[0;34m()\u001b[0m\n\u001b[1;32m     59\u001b[0m \u001b[0;34m\u001b[0m\u001b[0m\n\u001b[1;32m     60\u001b[0m \u001b[0;32mwith\u001b[0m \u001b[0mopen\u001b[0m\u001b[0;34m(\u001b[0m\u001b[0;34m\"awesome.mid\"\u001b[0m\u001b[0;34m,\u001b[0m \u001b[0;34m'wb'\u001b[0m\u001b[0;34m)\u001b[0m \u001b[0;32mas\u001b[0m \u001b[0moutf\u001b[0m\u001b[0;34m:\u001b[0m\u001b[0;34m\u001b[0m\u001b[0m\n\u001b[0;32m---> 61\u001b[0;31m     \u001b[0mmf\u001b[0m\u001b[0;34m.\u001b[0m\u001b[0mwriteFile\u001b[0m\u001b[0;34m(\u001b[0m\u001b[0moutf\u001b[0m\u001b[0;34m)\u001b[0m\u001b[0;34m\u001b[0m\u001b[0m\n\u001b[0m",
      "\u001b[0;32m~/anaconda3/lib/python3.6/site-packages/midiutil/MidiFile.py\u001b[0m in \u001b[0;36mwriteFile\u001b[0;34m(self, fileHandle)\u001b[0m\n\u001b[1;32m   1375\u001b[0m \u001b[0;34m\u001b[0m\u001b[0m\n\u001b[1;32m   1376\u001b[0m         \u001b[0;31m# Close the tracks and have them create the MIDI event data structures.\u001b[0m\u001b[0;34m\u001b[0m\u001b[0;34m\u001b[0m\u001b[0m\n\u001b[0;32m-> 1377\u001b[0;31m         \u001b[0mself\u001b[0m\u001b[0;34m.\u001b[0m\u001b[0mclose\u001b[0m\u001b[0;34m(\u001b[0m\u001b[0;34m)\u001b[0m\u001b[0;34m\u001b[0m\u001b[0m\n\u001b[0m\u001b[1;32m   1378\u001b[0m \u001b[0;34m\u001b[0m\u001b[0m\n\u001b[1;32m   1379\u001b[0m         \u001b[0;31m# Write the MIDI Events to file.\u001b[0m\u001b[0;34m\u001b[0m\u001b[0;34m\u001b[0m\u001b[0m\n",
      "\u001b[0;32m~/anaconda3/lib/python3.6/site-packages/midiutil/MidiFile.py\u001b[0m in \u001b[0;36mclose\u001b[0;34m(self)\u001b[0m\n\u001b[1;32m   1435\u001b[0m         \u001b[0;32mfor\u001b[0m \u001b[0mi\u001b[0m \u001b[0;32min\u001b[0m \u001b[0mrange\u001b[0m\u001b[0;34m(\u001b[0m\u001b[0;36m0\u001b[0m\u001b[0;34m,\u001b[0m \u001b[0mself\u001b[0m\u001b[0;34m.\u001b[0m\u001b[0mnumTracks\u001b[0m\u001b[0;34m)\u001b[0m\u001b[0;34m:\u001b[0m\u001b[0;34m\u001b[0m\u001b[0m\n\u001b[1;32m   1436\u001b[0m             \u001b[0mself\u001b[0m\u001b[0;34m.\u001b[0m\u001b[0mtracks\u001b[0m\u001b[0;34m[\u001b[0m\u001b[0mi\u001b[0m\u001b[0;34m]\u001b[0m\u001b[0;34m.\u001b[0m\u001b[0madjustTimeAndOrigin\u001b[0m\u001b[0;34m(\u001b[0m\u001b[0morigin\u001b[0m\u001b[0;34m,\u001b[0m \u001b[0mself\u001b[0m\u001b[0;34m.\u001b[0m\u001b[0madjust_origin\u001b[0m\u001b[0;34m)\u001b[0m\u001b[0;34m\u001b[0m\u001b[0m\n\u001b[0;32m-> 1437\u001b[0;31m             \u001b[0mself\u001b[0m\u001b[0;34m.\u001b[0m\u001b[0mtracks\u001b[0m\u001b[0;34m[\u001b[0m\u001b[0mi\u001b[0m\u001b[0;34m]\u001b[0m\u001b[0;34m.\u001b[0m\u001b[0mwriteMIDIStream\u001b[0m\u001b[0;34m(\u001b[0m\u001b[0;34m)\u001b[0m\u001b[0;34m\u001b[0m\u001b[0m\n\u001b[0m\u001b[1;32m   1438\u001b[0m \u001b[0;34m\u001b[0m\u001b[0m\n\u001b[1;32m   1439\u001b[0m         \u001b[0mself\u001b[0m\u001b[0;34m.\u001b[0m\u001b[0mclosed\u001b[0m \u001b[0;34m=\u001b[0m \u001b[0;32mTrue\u001b[0m\u001b[0;34m\u001b[0m\u001b[0m\n",
      "\u001b[0;32m~/anaconda3/lib/python3.6/site-packages/midiutil/MidiFile.py\u001b[0m in \u001b[0;36mwriteMIDIStream\u001b[0;34m(self)\u001b[0m\n\u001b[1;32m    532\u001b[0m         \u001b[0;31m# Process the events in the eventList\u001b[0m\u001b[0;34m\u001b[0m\u001b[0;34m\u001b[0m\u001b[0m\n\u001b[1;32m    533\u001b[0m \u001b[0;34m\u001b[0m\u001b[0m\n\u001b[0;32m--> 534\u001b[0;31m         \u001b[0mself\u001b[0m\u001b[0;34m.\u001b[0m\u001b[0mwriteEventsToStream\u001b[0m\u001b[0;34m(\u001b[0m\u001b[0;34m)\u001b[0m\u001b[0;34m\u001b[0m\u001b[0m\n\u001b[0m\u001b[1;32m    535\u001b[0m \u001b[0;34m\u001b[0m\u001b[0m\n\u001b[1;32m    536\u001b[0m         \u001b[0;31m# Write MIDI close event.\u001b[0m\u001b[0;34m\u001b[0m\u001b[0;34m\u001b[0m\u001b[0m\n",
      "\u001b[0;32m~/anaconda3/lib/python3.6/site-packages/midiutil/MidiFile.py\u001b[0m in \u001b[0;36mwriteEventsToStream\u001b[0;34m(self)\u001b[0m\n\u001b[1;32m    584\u001b[0m                     \u001b[0mself\u001b[0m\u001b[0;34m.\u001b[0m\u001b[0mMIDIdata\u001b[0m \u001b[0;34m+=\u001b[0m \u001b[0mstruct\u001b[0m\u001b[0;34m.\u001b[0m\u001b[0mpack\u001b[0m\u001b[0;34m(\u001b[0m\u001b[0;34m'>B'\u001b[0m\u001b[0;34m,\u001b[0m \u001b[0mtimeByte\u001b[0m\u001b[0;34m)\u001b[0m\u001b[0;34m\u001b[0m\u001b[0m\n\u001b[1;32m    585\u001b[0m                 \u001b[0mself\u001b[0m\u001b[0;34m.\u001b[0m\u001b[0mMIDIdata\u001b[0m \u001b[0;34m+=\u001b[0m \u001b[0mstruct\u001b[0m\u001b[0;34m.\u001b[0m\u001b[0mpack\u001b[0m\u001b[0;34m(\u001b[0m\u001b[0;34m'>B'\u001b[0m\u001b[0;34m,\u001b[0m \u001b[0mcode\u001b[0m\u001b[0;34m)\u001b[0m\u001b[0;34m\u001b[0m\u001b[0m\n\u001b[0;32m--> 586\u001b[0;31m                 \u001b[0mself\u001b[0m\u001b[0;34m.\u001b[0m\u001b[0mMIDIdata\u001b[0m \u001b[0;34m+=\u001b[0m \u001b[0mstruct\u001b[0m\u001b[0;34m.\u001b[0m\u001b[0mpack\u001b[0m\u001b[0;34m(\u001b[0m\u001b[0;34m'>B'\u001b[0m\u001b[0;34m,\u001b[0m \u001b[0mevent\u001b[0m\u001b[0;34m.\u001b[0m\u001b[0mpitch\u001b[0m\u001b[0;34m)\u001b[0m\u001b[0;34m\u001b[0m\u001b[0m\n\u001b[0m\u001b[1;32m    587\u001b[0m                 \u001b[0mself\u001b[0m\u001b[0;34m.\u001b[0m\u001b[0mMIDIdata\u001b[0m \u001b[0;34m+=\u001b[0m \u001b[0mstruct\u001b[0m\u001b[0;34m.\u001b[0m\u001b[0mpack\u001b[0m\u001b[0;34m(\u001b[0m\u001b[0;34m'>B'\u001b[0m\u001b[0;34m,\u001b[0m \u001b[0mevent\u001b[0m\u001b[0;34m.\u001b[0m\u001b[0mvolume\u001b[0m\u001b[0;34m)\u001b[0m\u001b[0;34m\u001b[0m\u001b[0m\n\u001b[1;32m    588\u001b[0m             \u001b[0;32melif\u001b[0m \u001b[0mevent\u001b[0m\u001b[0;34m.\u001b[0m\u001b[0mtype\u001b[0m \u001b[0;34m==\u001b[0m \u001b[0;34m\"NoteOff\"\u001b[0m\u001b[0;34m:\u001b[0m\u001b[0;34m\u001b[0m\u001b[0m\n",
      "\u001b[0;31merror\u001b[0m: required argument is not an integer"
     ]
    }
   ],
   "source": [
    "#convert to midi\n",
    "from midiutil.MidiFile import MIDIFile\n",
    "\n",
    "mf = MIDIFile(2)    \n",
    "\n",
    "# the melody track\n",
    "track = 0   \n",
    "time = 0\n",
    "mf.addTrackName(track, time, \"Melody\")\n",
    "mf.addTempo(track, time, 120)\n",
    "channel = 0\n",
    "volume = 100\n",
    "\n",
    "for bar in data:\n",
    "    for note in bar:\n",
    "        if note.data[0] >0:\n",
    "            mf.addNote(track, channel, note.data[0]+40, time, 0.25, volume)\n",
    "        time = time +0.25\n",
    "\n",
    "#the chord track\n",
    "track = 1\n",
    "time = 0\n",
    "volume = 50\n",
    "mf.addTrackName(track,time,\"Chords\")    \n",
    "mf.addTempo(track, time, 120)\n",
    "\n",
    "C = 60\n",
    "E = 64\n",
    "G = 67\n",
    "F = 65\n",
    "A = 69\n",
    "B = 71\n",
    "\n",
    "for i in range(0,4):\n",
    "    mf.addNote(track,channel,C,time,4,volume)\n",
    "    mf.addNote(track,channel,E,time,4,volume)\n",
    "    mf.addNote(track,channel,G,time,4,volume)\n",
    "    time=time+4\n",
    "for i in range(0,2):\n",
    "    mf.addNote(track,channel,F,time,4,volume)\n",
    "    mf.addNote(track,channel,A,time,4,volume)\n",
    "    mf.addNote(track,channel,C,time,4,volume)\n",
    "    time=time+4\n",
    "for i in range(0,2): \n",
    "    mf.addNote(track,channel,C,time,4,volume)\n",
    "    mf.addNote(track,channel,E,time,4,volume)\n",
    "    mf.addNote(track,channel,G,time,4,volume)  \n",
    "    time=time+4\n",
    "for i in range(0,2): \n",
    "    mf.addNote(track,channel,G,time,4,volume)\n",
    "    mf.addNote(track,channel,B,time,4,volume)\n",
    "    mf.addNote(track,channel,E,time,4,volume)\n",
    "    time=time+4\n",
    "for i in range(0,2): \n",
    "    mf.addNote(track,channel,C,time,4,volume)\n",
    "    mf.addNote(track,channel,E,time,4,volume)\n",
    "    mf.addNote(track,channel,G,time,4,volume)  \n",
    "    time=time+4\n",
    "\n",
    "with open(\"awesome.mid\", 'wb') as outf:\n",
    "    mf.writeFile(outf)"
   ]
  }
 ],
 "metadata": {
  "kernelspec": {
   "display_name": "Python 3",
   "language": "python",
   "name": "python3"
  },
  "language_info": {
   "codemirror_mode": {
    "name": "ipython",
    "version": 3
   },
   "file_extension": ".py",
   "mimetype": "text/x-python",
   "name": "python",
   "nbconvert_exporter": "python",
   "pygments_lexer": "ipython3",
   "version": "3.6.2"
  }
 },
 "nbformat": 4,
 "nbformat_minor": 2
}
